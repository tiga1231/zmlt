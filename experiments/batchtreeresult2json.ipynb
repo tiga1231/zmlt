{
 "cells": [
  {
   "cell_type": "code",
   "execution_count": null,
   "id": "0cbddf28",
   "metadata": {},
   "outputs": [],
   "source": [
    "import json\n",
    "from glob import glob\n",
    "from natsort import natsorted\n",
    "import numpy as np\n",
    "import matplotlib.pyplot as plt\n",
    "\n",
    "plt.style.use('ggplot')\n",
    "plt.style.use('seaborn-colorblind')"
   ]
  },
  {
   "cell_type": "code",
   "execution_count": null,
   "id": "132f3684",
   "metadata": {},
   "outputs": [],
   "source": [
    "with open('./data/json/lastfm_linear/Graph_8-1615801589-min.json') as f:\n",
    "    js = json.load(f)\n",
    "js.keys()"
   ]
  },
  {
   "cell_type": "code",
   "execution_count": null,
   "id": "26358fb2",
   "metadata": {},
   "outputs": [],
   "source": [
    "# fns = natsorted(glob('./data/batch-tree-result/*120.txt'))\n",
    "fns = natsorted(glob('./data/batch-tree-result-2/PRT-DELG/*'))\n",
    "\n",
    "fns"
   ]
  },
  {
   "cell_type": "code",
   "execution_count": null,
   "id": "7864e2d3",
   "metadata": {},
   "outputs": [],
   "source": [
    "# results = [\n",
    "    \n",
    "#     [## topics\n",
    "#         ## inputs\n",
    "#         'data/batch-tree-result/Graph_5000.txt.mtxBatchTree128PARAOUT120.txt', ## node positions\n",
    "#         'data/batch-tree-data/topics/Graph_5000.txt.labels', ## node labels\n",
    "#         'data/batch-tree-data/topics/Graph_5000.txt.mtx', ## edges\n",
    "        \n",
    "#         ## output file name\n",
    "#         'data/batch-tree-result-json/topics.json'\n",
    "#     ],\n",
    "    \n",
    "#     [## last.fm linear\n",
    "#         'data/batch-tree-result/Graph_8.txt.weighted.mtxBatchTree128PARAOUT120.txt',\n",
    "#         'data/batch-tree-data/lastfm_variable_lengths_new/Graph_8.txt.labels',\n",
    "#         'data/batch-tree-data/lastfm_variable_lengths_new/Graph_8.txt.weighted.mtx',\n",
    "        \n",
    "#         'data/batch-tree-result-json/last.fm-linear.json'\n",
    "#     ],\n",
    "    \n",
    "    \n",
    "#     [## topics-linear\n",
    "#         'data/batch-tree-result-2/topics_linear.txt',\n",
    "#         'data/batch-tree-data/small_topics_math/Graph_5000.txt.labels',\n",
    "#         'data/batch-tree-data/small_topics_math/Graph_5000.txt.weighted.mtx',\n",
    "        \n",
    "# #         'data/batch-tree-data/topics/Graph_5000.txt.labels',\n",
    "# #         'data/batch-tree-data/topics/Graph_5000.txt.mtx',\n",
    "        \n",
    "#         'data/batch-tree-result-json/topics-linear.json'\n",
    "#     ],\n",
    "    \n",
    "# #     ## tol-linear\n",
    "# #     [\n",
    "# #         'data/batch-tree-result/Graph_4.txt.weighted.mtxBatchTree128PARAOUT120.txt',\n",
    "# #         'data/batch-tree-data/tol_var_len/Graph_4.txt.labels',\n",
    "# #         'data/batch-tree-data/tol_var_len/Graph_4.txt.weighted.mtx',\n",
    "# #         'data/batch-tree-result-json/tol-linear.json'\n",
    "# #     ]\n",
    "    \n",
    "# ]"
   ]
  },
  {
   "cell_type": "code",
   "execution_count": null,
   "id": "ec164cae",
   "metadata": {},
   "outputs": [],
   "source": [
    "# For figure 10 (BT)\n",
    "results = [\n",
    "    [## last.fm linear, bt-delg\n",
    "        '../BatchTree-main/datasets/output/Graph_8.txt.weighted.mtxBatchTree128PARAOUT600.txt',\n",
    "        'data/batch-tree-data/lastfm_variable_lengths_new/Graph_8.txt.labels',\n",
    "        'data/batch-tree-data/lastfm_variable_lengths_new/Graph_8.txt.weighted.mtx',\n",
    "        \n",
    "        'data/batch-tree-result-json/figure-10/last.fm-linear-delg-mode.json'\n",
    "    ],\n",
    "    \n",
    "#     [## last.fm linear, bt-cg\n",
    "#         '../BatchTree-main/datasets/output/Graph_8.txt.weighted.mtxBatchTree128PARAOUT120.txt',\n",
    "#         'data/batch-tree-data/lastfm_variable_lengths_new/Graph_8.txt.labels',\n",
    "#         'data/batch-tree-data/lastfm_variable_lengths_new/Graph_8.txt.weighted.mtx',\n",
    "        \n",
    "#         'data/batch-tree-result-json/figure-10/last.fm-linear-cg-mode.json'\n",
    "#     ],\n",
    "]"
   ]
  },
  {
   "cell_type": "code",
   "execution_count": null,
   "id": "5eb12e1b",
   "metadata": {},
   "outputs": [],
   "source": [
    "results = [\n",
    "    [\n",
    "        './data/batch-tree-result-2/PRT-DELG/Graph_8.txt.mtxBatchTree128PARAOUT30.txt',\n",
    "        './data/batch-tree-result-2/PRT-DELG/Graph_8.txt.labels',\n",
    "        './data/batch-tree-result-2/PRT-DELG/Graph_8.txt.mtx',\n",
    "        \n",
    "        'data/batch-tree-result-json/figure-10/last.fm-linear-delg-mode.json'\n",
    "    ]\n",
    "]"
   ]
  },
  {
   "cell_type": "code",
   "execution_count": null,
   "id": "680073b4",
   "metadata": {},
   "outputs": [],
   "source": [
    "for pos, label, edge, out_fn in results:\n",
    "    print(pos)\n",
    "    with open(pos) as f:\n",
    "        nodes = [l.strip().split('\\t') for l in f]\n",
    "        node_x = [float(x[0]) for x in nodes]\n",
    "        node_y = [float(x[1]) for x in nodes]\n",
    "        node_id = [int(x[2]) for x in nodes]\n",
    "        node_index = list(range(len(node_id)))\n",
    "        node_level = [1] * len(node_id)\n",
    "    with open(label) as f:\n",
    "        node_label = [l.strip() for l in f]\n",
    "                     \n",
    "    with open(edge) as f:\n",
    "        f = f.readlines()[2:]\n",
    "        edges = [l.strip().split() for l in f]\n",
    "        edge_source = [int(e[0]) for e in edges]\n",
    "        edge_target = [int(e[1]) for e in edges]\n",
    "                    \n",
    "            \n",
    "    out = dict(\n",
    "        node_x=node_x,\n",
    "        node_y=node_y,\n",
    "        node_id=node_id,\n",
    "        node_index=node_index,\n",
    "        node_label=node_label,\n",
    "\n",
    "        node_level=node_level, \n",
    "\n",
    "        edge_source=edge_source,\n",
    "        edge_target=edge_target,\n",
    "    )\n",
    "    with open(out_fn, 'w') as f:\n",
    "        json.dump(out, f)"
   ]
  },
  {
   "cell_type": "code",
   "execution_count": null,
   "id": "0479075a",
   "metadata": {},
   "outputs": [],
   "source": [
    "xy = np.array(list(zip(node_x, node_y)))\n",
    "plt.scatter(xy[:,0], xy[:,1], s=1)\n",
    "plt.axis('equal')"
   ]
  },
  {
   "cell_type": "code",
   "execution_count": null,
   "id": "52456ab7",
   "metadata": {},
   "outputs": [],
   "source": [
    "xy = np.array(list(zip(node_x, node_y)))\n",
    "plt.scatter(xy[:,0], xy[:,1], s=1)"
   ]
  },
  {
   "cell_type": "code",
   "execution_count": null,
   "id": "918bee9d",
   "metadata": {},
   "outputs": [],
   "source": []
  },
  {
   "cell_type": "code",
   "execution_count": null,
   "id": "51885cfd",
   "metadata": {},
   "outputs": [],
   "source": []
  },
  {
   "cell_type": "code",
   "execution_count": null,
   "id": "3ddb471d",
   "metadata": {},
   "outputs": [],
   "source": []
  },
  {
   "cell_type": "code",
   "execution_count": null,
   "id": "82cc9488",
   "metadata": {},
   "outputs": [],
   "source": []
  },
  {
   "cell_type": "code",
   "execution_count": null,
   "id": "ef6c895f",
   "metadata": {},
   "outputs": [],
   "source": []
  },
  {
   "cell_type": "code",
   "execution_count": null,
   "id": "9fd15eb3",
   "metadata": {},
   "outputs": [],
   "source": []
  },
  {
   "cell_type": "code",
   "execution_count": null,
   "id": "4b382bf4",
   "metadata": {},
   "outputs": [],
   "source": []
  }
 ],
 "metadata": {
  "kernelspec": {
   "display_name": "Python 3 (ipykernel)",
   "language": "python",
   "name": "python3"
  },
  "language_info": {
   "codemirror_mode": {
    "name": "ipython",
    "version": 3
   },
   "file_extension": ".py",
   "mimetype": "text/x-python",
   "name": "python",
   "nbconvert_exporter": "python",
   "pygments_lexer": "ipython3",
   "version": "3.7.15"
  }
 },
 "nbformat": 4,
 "nbformat_minor": 5
}
