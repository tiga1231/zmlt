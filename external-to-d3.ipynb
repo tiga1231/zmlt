{
 "cells": [
  {
   "cell_type": "code",
   "execution_count": 1,
   "metadata": {},
   "outputs": [],
   "source": [
    "from glob import glob\n",
    "from natsort import natsorted\n",
    "import json\n",
    "\n",
    "def read_external(fn):\n",
    "    res = {}\n",
    "    with open(fn) as f:\n",
    "        for line in f:\n",
    "            name, value = line.split(' = ')\n",
    "            value = json.loads(value)\n",
    "            res[name] = value\n",
    "    return res\n",
    "\n",
    "\n",
    "def read_ref(fn):\n",
    "    with open(fn) as f:\n",
    "        res = json.load(f)\n",
    "    return res\n",
    "    \n",
    "    \n",
    "def align(data_ext, data_ref):\n",
    "    ## ext\n",
    "    label_to_x = {data_ext['alphanum_to_org'][l]:data_ext['crd_x'][str(data_ext['label_to_id'][l])] for l in data_ext['label_to_id']}\n",
    "    label_to_y = {data_ext['alphanum_to_org'][l]:data_ext['crd_y'][str(data_ext['label_to_id'][l])] for l in data_ext['label_to_id']}\n",
    "    ## ref\n",
    "    index_to_label = {i:l for i,l in enumerate(data_ref['node_label'])}\n",
    "    \n",
    "    ## match\n",
    "    node_x = [label_to_x[index_to_label[i]] for i in range(len(index_to_label))]\n",
    "    node_y = [label_to_y[index_to_label[i]] for i in range(len(index_to_label))]\n",
    "    \n",
    "    res_ref = data_ref.copy()\n",
    "    res_ref['node_x'] = node_x\n",
    "    res_ref['node_y'] = node_y\n",
    "    \n",
    "    return res_ref, objectify(res_ref)\n",
    "    \n",
    "    \n",
    "def objectify(data, \n",
    "              prefix='node_', \n",
    "              terms=set(['id', 'x', 'y', 'label', 'level', 'parent', 'nodeCount', 'weight'])):\n",
    "    keys = [k for k in data if k.startswith(prefix) and k[len(prefix):] in terms]\n",
    "#     keys_out = [k[len(prefix):] for k in keys]\n",
    "    res = [{k[len(prefix):]:data[k][i] for k in keys}\n",
    "        for i in range(len(data[keys[0]]))]\n",
    "    return res\n"
   ]
  },
  {
   "cell_type": "code",
   "execution_count": 2,
   "metadata": {},
   "outputs": [
    {
     "data": {
      "text/plain": [
       "['./data/external/in/lastfm-DELG.json',\n",
       " './data/external/in/tol-DELG.json',\n",
       " './data/external/in/topics-DELG.json']"
      ]
     },
     "execution_count": 2,
     "metadata": {},
     "output_type": "execute_result"
    }
   ],
   "source": [
    "dir_in = './data/external/in/'\n",
    "glob(f'{dir_in}/*.json')"
   ]
  },
  {
   "cell_type": "code",
   "execution_count": null,
   "metadata": {},
   "outputs": [],
   "source": [
    "\n",
    "# fn_ext = f'./data/external/in/lastfm-DELG.json'\n",
    "# fn_ref = f'data/json/lastfm_refined/Graph_8_2587-min.json'\n",
    "# fn_ext = f'./data/external/in/topics-DELG.json'\n",
    "# fn_ref = f'data/json/topics_faryad_8level_linear/Graph_5000-1615834916-min.json'\n",
    "# fn_ext = f'./data/external/in/tol-DELG.json'\n",
    "# fn_ref = f'data/json/tol_graphs_linear/Graph_4-1615872482-min.json'\n",
    "\n",
    "fn_out = fn_ext.replace('/in/', '/').replace('.json', '-min.json')\n",
    "fn_out_nodes = fn_ext.replace('/in/', '/').replace('.json', '-nodes-0.json')\n",
    "print(fn_out, fn_out_nodes)\n"
   ]
  },
  {
   "cell_type": "code",
   "execution_count": null,
   "metadata": {},
   "outputs": [],
   "source": [
    "data_ext = read_external(fn_ext)\n",
    "data_ref = read_ref(fn_ref)\n",
    "# print(data_ext.keys())\n",
    "# print(data_ref.keys())\n",
    "data, nodes = align(data_ext, data_ref)\n",
    "\n",
    "with open(fn_out, 'w') as f:\n",
    "    json.dump(data, f, indent=2)\n",
    "with open(fn_out_nodes, 'w') as f:\n",
    "    json.dump(nodes, f, indent=2) "
   ]
  },
  {
   "cell_type": "markdown",
   "metadata": {},
   "source": [
    "---"
   ]
  },
  {
   "cell_type": "code",
   "execution_count": null,
   "metadata": {},
   "outputs": [],
   "source": []
  },
  {
   "cell_type": "code",
   "execution_count": null,
   "metadata": {},
   "outputs": [],
   "source": [
    "def read_khaled(fn_labels, fn_coords, fn_edges):\n",
    "    xs = []\n",
    "    ys = []\n",
    "    labels = []\n",
    "    with open(fn_labels) as f_labels, open(fn_coords) as f_coord:\n",
    "        for xy, label in zip(f_coord, f_labels):\n",
    "            xy = xy.split()[:2]\n",
    "            x,y = float(xy[0]), float(xy[1])\n",
    "            label = label.strip()\n",
    "            xs.append(x)\n",
    "            ys.append(y)\n",
    "            labels.append(label)\n",
    "    return xs,ys,labels\n",
    "\n",
    "\n",
    "def align2(data_khaled, data_ref):\n",
    "    ## khaled todo\n",
    "    xs, ys, labels = data_khaled\n",
    "    label_to_x = {l:x for x,l in zip(xs, labels)}\n",
    "    label_to_y = {l:y for y,l in zip(ys, labels)}\n",
    "    ## ref\n",
    "    index_to_label = {i:l.replace('\"', '') for i,l in enumerate(data_ref['node_label'])}\n",
    "\n",
    "    ## match\n",
    "    node_x = [label_to_x[index_to_label[i]] for i in range(len(index_to_label))]\n",
    "    node_y = [label_to_y[index_to_label[i]] for i in range(len(index_to_label))]\n",
    "    \n",
    "    res_ref = data_ref.copy()\n",
    "    res_ref['node_x'] = node_x\n",
    "    res_ref['node_y'] = node_y\n",
    "    \n",
    "    return res_ref, objectify(res_ref)"
   ]
  },
  {
   "cell_type": "code",
   "execution_count": 41,
   "metadata": {},
   "outputs": [
    {
     "data": {
      "text/plain": [
       "('./data/large/tol/Graph_4-min.json', './data/large/tol/Graph_4-nodes-0.json')"
      ]
     },
     "execution_count": 41,
     "metadata": {},
     "output_type": "execute_result"
    }
   ],
   "source": [
    "# fn_ref = f'data/json/lastfm_refined/Graph_8_2587-min.json'\n",
    "# fn_labels = './data/large/lastfm/Graph_8.txt.full.labels'\n",
    "# fn_coords = './data/large/lastfm/Graph_8.txt.weighted.mtxBatchTree128PARAOUT0.txt'\n",
    "# fn_edges = './data/large/lastfm/Graph_8.txt.weighted.mtx'\n",
    "\n",
    "# fn_ref = f'data/json/topics_faryad_8level_linear/Graph_5000-1615834916-min.json'\n",
    "# fn_labels = './data/large/topics/Graph_5000.txt.full.labels'\n",
    "# fn_coords = './data/large/topics/Graph_5000.txt.weighted.mtxBatchTree128PARAOUT0.txt'\n",
    "# fn_edges = './data/large/topics/Graph_5000.txt.weighted.mtx'\n",
    "\n",
    "fn_ref = f'data/json/tol_graphs_linear/Graph_4-1615175837-min.json'\n",
    "fn_labels = './data/large/tol/Graph_4.txt.full.labels'\n",
    "fn_coords = './data/large/tol/Graph_4.txt.weighted.mtxBatchTree128PARAOUT0.txt'\n",
    "fn_edges = './data/large/tol/Graph_4.txt.weighted.mtx'\n",
    "\n",
    "data_ref = read_ref(fn_ref)\n",
    "data_khaled = read_khaled(fn_labels, fn_coords, fn_edges)\n",
    "\n",
    "data, nodes = align2(data_khaled, data_ref)\n",
    "\n",
    "dir_out = '/'.join(fn_labels.split('/')[:-1])\n",
    "fn_out = dir_out + '/'+ fn_labels.split('/')[-1].split('.')[0] + '-min.json'\n",
    "fn_out_nodes = dir_out + '/' + fn_labels.split('/')[-1].split('.')[0] + '-nodes-0.json'\n",
    "\n",
    "fn_out, fn_out_nodes"
   ]
  },
  {
   "cell_type": "code",
   "execution_count": 42,
   "metadata": {},
   "outputs": [],
   "source": [
    "with open(fn_out, 'w') as f:\n",
    "    json.dump(data, f, indent=2)\n",
    "with open(fn_out_nodes, 'w') as f:\n",
    "    json.dump(nodes, f, indent=2) "
   ]
  },
  {
   "cell_type": "code",
   "execution_count": null,
   "metadata": {},
   "outputs": [],
   "source": [
    "# # expected output format\n",
    "# with open('data/json/lastfm_refined/Graph_8_2587-nodes-0.json') as f:\n",
    "#     out_nodes = json.load(f)\n",
    "# print(out_nodes[0].keys())"
   ]
  },
  {
   "cell_type": "code",
   "execution_count": null,
   "metadata": {},
   "outputs": [],
   "source": []
  }
 ],
 "metadata": {
  "kernelspec": {
   "display_name": "Python 3",
   "language": "python",
   "name": "python3"
  },
  "language_info": {
   "codemirror_mode": {
    "name": "ipython",
    "version": 3
   },
   "file_extension": ".py",
   "mimetype": "text/x-python",
   "name": "python",
   "nbconvert_exporter": "python",
   "pygments_lexer": "ipython3",
   "version": "3.8.2"
  }
 },
 "nbformat": 4,
 "nbformat_minor": 4
}
