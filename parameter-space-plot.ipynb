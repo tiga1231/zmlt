{
 "cells": [
  {
   "cell_type": "code",
   "execution_count": null,
   "id": "5d2109e7",
   "metadata": {},
   "outputs": [],
   "source": [
    "import numpy as np\n",
    "import pandas as pd\n",
    "import matplotlib.pyplot as plt\n"
   ]
  },
  {
   "cell_type": "code",
   "execution_count": null,
   "id": "085524c8",
   "metadata": {},
   "outputs": [],
   "source": [
    "# attr_name = 'charge_strength'\n",
    "attr_name = 'node_edge_strength'\n",
    "# attr_name = 'ellipse_aspect_ratio'\n",
    "\n",
    "fn = f'./parameter-scan-result/{attr_name}.json'\n",
    "df = pd.read_json(fn)\n",
    "if attr_name == 'charge_strength':\n",
    "    df[attr_name] = df[attr_name].abs()\n",
    "\n",
    "\n",
    "df.head(6)"
   ]
  },
  {
   "cell_type": "code",
   "execution_count": null,
   "id": "22a95757",
   "metadata": {},
   "outputs": [],
   "source": [
    "linestyles = [\n",
    "    (0, ()),\n",
    "    (0, (6, 2)),\n",
    "    (0, (6, 4)),\n",
    "    (0, (1, 1)),\n",
    "]\n",
    "\n",
    "attr_x = attr_name\n",
    "xlabel = attr_x.replace('_', ' ').capitalize()\n",
    "# xlabel = 'Ellipse aspect ratio'\n",
    "\n",
    "for attr_y in ['edge_length_preservation', 'compactness']:\n",
    "    \n",
    "    ylabel = attr_y.replace('_', ' ').capitalize()\n",
    "    if attr_y == 'edge_length_preservation':\n",
    "        best = np.argmin\n",
    "    else:\n",
    "        best = np.argmax\n",
    "\n",
    "    for i, [[graph, edge_mode], sub_df] in enumerate(df.groupby(['graph', 'edge_mode'])):\n",
    "        n = len(sub_df)\n",
    "        \n",
    "        x = sub_df[attr_x].tolist()\n",
    "        y = sub_df[attr_y].tolist()\n",
    "        \n",
    "        color = f'C{i//2}'\n",
    "        linestyle = linestyles[i//2]\n",
    "        linewidth = 2.5 if edge_mode == 'linear' else 2\n",
    "        marker = '' if edge_mode == 'linear' else ''\n",
    "        \n",
    "        plt.plot(\n",
    "            y,\n",
    "            label=f'{graph}, {edge_mode}',\n",
    "            color=color, marker=marker, \n",
    "            linewidth=linewidth,\n",
    "            linestyle=linestyle, \n",
    "        )\n",
    "        j = best(y)\n",
    "        plt.scatter([j], y[j], s=80, c=color, lw=1, edgecolors='#333', marker='d', zorder=10)\n",
    "        \n",
    "        plt.xticks(np.arange(n), [f'{xi:.5f}' for xi in x], rotation=20)\n",
    "        plt.xlabel(xlabel)\n",
    "        plt.ylabel(ylabel)\n",
    "    if attr_y == 'edge_length_preservation':\n",
    "        plt.legend()\n",
    "#     if attr_y == 'compactness':\n",
    "#         plt.legend()\n",
    "    plt.savefig(f'./parameter-scan-result/{attr_x}-vs-{attr_y}.png', bbox_inches='tight')\n",
    "    plt.show()\n"
   ]
  },
  {
   "cell_type": "code",
   "execution_count": null,
   "id": "f07fbfdb",
   "metadata": {},
   "outputs": [],
   "source": []
  }
 ],
 "metadata": {
  "kernelspec": {
   "display_name": "Python 3 (ipykernel)",
   "language": "python",
   "name": "python3"
  },
  "language_info": {
   "codemirror_mode": {
    "name": "ipython",
    "version": 3
   },
   "file_extension": ".py",
   "mimetype": "text/x-python",
   "name": "python",
   "nbconvert_exporter": "python",
   "pygments_lexer": "ipython3",
   "version": "3.7.15"
  }
 },
 "nbformat": 4,
 "nbformat_minor": 5
}
