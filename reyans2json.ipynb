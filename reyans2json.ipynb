{
 "cells": [
  {
   "cell_type": "code",
   "execution_count": 1,
   "metadata": {},
   "outputs": [],
   "source": [
    "from glob import glob\n",
    "from natsort import natsorted\n",
    "import json"
   ]
  },
  {
   "cell_type": "code",
   "execution_count": 2,
   "metadata": {},
   "outputs": [
    {
     "data": {
      "text/plain": [
       "['./data/external/input/lastfm/prism.py',\n",
       " './data/external/input/lastfm/bt_cg.py',\n",
       " './data/external/input/lastfm/__init__.py',\n",
       " './data/external/input/lastfm/bt_delg.py',\n",
       " './data/external/input/lastfm/lastfm_delg_elliptical.py']"
      ]
     },
     "execution_count": 2,
     "metadata": {},
     "output_type": "execute_result"
    }
   ],
   "source": [
    "# dir_in = './data/external/in/'\n",
    "# glob(f'{dir_in}/*.json')\n",
    "\n",
    "dir_in = './data/external/input/lastfm/'\n",
    "glob(f'{dir_in}/*.py')"
   ]
  },
  {
   "cell_type": "code",
   "execution_count": 3,
   "metadata": {},
   "outputs": [
    {
     "data": {
      "text/plain": [
       "dict_keys(['org_to_alphanum', 'alphanum_to_org', 'my_edges', 'label_to_id', 'id_to_label', 'edge_distance', 'crd_x', 'crd_y'])"
      ]
     },
     "execution_count": 3,
     "metadata": {},
     "output_type": "execute_result"
    }
   ],
   "source": [
    "# from data.external.input.lastfm.bt_cg import *\n",
    "# out_fn = './data/external/bt_cg.json'\n",
    "\n",
    "# from data.external.input.lastfm.bt_delg import *\n",
    "# out_fn = './data/external/bt_delg.json'\n",
    "\n",
    "# from data.external.input.lastfm.lastfm_delg_elliptical import *\n",
    "# out_fn = './data/external/lastfm_delg_elliptical.json'\n",
    "\n",
    "from data.external.input.lastfm.prism import *\n",
    "out_fn = './data/external/prism.json'\n",
    "\n",
    "d = dict(\n",
    "    org_to_alphanum=org_to_alphanum,\n",
    "    alphanum_to_org = alphanum_to_org,\n",
    "    my_edges=my_edges,\n",
    "    label_to_id=label_to_id,\n",
    "    id_to_label=id_to_label,\n",
    "#     nodes_to_levels=nodes_to_levels,\n",
    "    edge_distance=edge_distance,\n",
    "    crd_x=crd_x,\n",
    "    crd_y=crd_y,\n",
    ")\n",
    "\n",
    "d.keys()"
   ]
  },
  {
   "cell_type": "code",
   "execution_count": 4,
   "metadata": {},
   "outputs": [],
   "source": [
    "t = type(list(crd_x.keys())[0])"
   ]
  },
  {
   "cell_type": "code",
   "execution_count": 5,
   "metadata": {},
   "outputs": [],
   "source": [
    "node_id = natsorted(id_to_label.keys())\n",
    "node_index = list(range(len(node_id)))\n",
    "node_x = [crd_x[t(i)] for i in node_id]\n",
    "node_y = [crd_y[t(i)] for i in node_id]\n",
    "node_level = [1] * len(node_id)\n",
    "node_label = [id_to_label[i] for i in node_id]\n",
    "\n",
    "edges = my_edges\n",
    "edge_source = [int(label_to_id[e[0]]) for e in edges]\n",
    "edge_target = [int(label_to_id[e[1]]) for e in edges]"
   ]
  },
  {
   "cell_type": "code",
   "execution_count": 6,
   "metadata": {},
   "outputs": [],
   "source": [
    "out = dict(\n",
    "    node_x=node_x,\n",
    "    node_y=node_y,\n",
    "    node_id=node_id,\n",
    "    node_index=node_index,\n",
    "    node_label=node_label,\n",
    "\n",
    "    node_level=node_level, \n",
    "\n",
    "    edge_source=edge_source,\n",
    "    edge_target=edge_target,\n",
    ")\n",
    "with open(out_fn, 'w') as f:\n",
    "    json.dump(out, f)"
   ]
  },
  {
   "cell_type": "code",
   "execution_count": 11,
   "metadata": {},
   "outputs": [
    {
     "data": {
      "text/plain": [
       "'./data/external/prism.json'"
      ]
     },
     "execution_count": 11,
     "metadata": {},
     "output_type": "execute_result"
    }
   ],
   "source": [
    "out_fn"
   ]
  },
  {
   "cell_type": "markdown",
   "metadata": {},
   "source": [
    "----------------"
   ]
  },
  {
   "cell_type": "code",
   "execution_count": 7,
   "metadata": {},
   "outputs": [],
   "source": [
    "\n",
    "    \n",
    "# with open('data/external/input/lastfm/bt_cg.json', 'w') as f:\n",
    "#     for k,v in d.items():\n",
    "#         f.write(f'{k} = {json.dumps(v)}\\n')"
   ]
  },
  {
   "cell_type": "code",
   "execution_count": 8,
   "metadata": {},
   "outputs": [],
   "source": [
    "# def read_external(fn):\n",
    "#     res = {}\n",
    "#     with open(fn) as f:\n",
    "#         for line in f:\n",
    "#             name, value = line.split(' = ')\n",
    "#             value = json.loads(value)\n",
    "#             res[name] = value\n",
    "#     return res\n",
    "\n",
    "\n",
    "# def read_ref(fn):\n",
    "#     with open(fn) as f:\n",
    "#         res = json.load(f)\n",
    "#     return res\n",
    "    \n",
    "    \n",
    "# def align(data_ext, data_ref):\n",
    "#     ## ext\n",
    "#     label_to_x = {data_ext['alphanum_to_org'][l]:data_ext['crd_x'][str(data_ext['label_to_id'][l])] for l in data_ext['label_to_id']}\n",
    "#     label_to_y = {data_ext['alphanum_to_org'][l]:data_ext['crd_y'][str(data_ext['label_to_id'][l])] for l in data_ext['label_to_id']}\n",
    "#     ## ref\n",
    "#     index_to_label = {i:l for i,l in enumerate(data_ref['node_label'])}\n",
    "    \n",
    "#     ## match\n",
    "#     node_x = [label_to_x[index_to_label[i]] for i in range(len(index_to_label))]\n",
    "#     node_y = [label_to_y[index_to_label[i]] for i in range(len(index_to_label))]\n",
    "    \n",
    "#     res_ref = data_ref.copy()\n",
    "#     res_ref['node_x'] = node_x\n",
    "#     res_ref['node_y'] = node_y\n",
    "    \n",
    "#     return res_ref, objectify(res_ref)\n",
    "    \n",
    "    \n",
    "# def objectify(data, \n",
    "#               prefix='node_', \n",
    "#               terms=set(['id', 'x', 'y', 'label', 'level', 'parent', 'nodeCount', 'weight'])):\n",
    "#     keys = [k for k in data if k.startswith(prefix) and k[len(prefix):] in terms]\n",
    "# #     keys_out = [k[len(prefix):] for k in keys]\n",
    "#     res = [{k[len(prefix):]:data[k][i] for k in keys}\n",
    "#         for i in range(len(data[keys[0]]))]\n",
    "#     return res\n"
   ]
  },
  {
   "cell_type": "code",
   "execution_count": 9,
   "metadata": {},
   "outputs": [],
   "source": [
    "\n",
    "# fn_ext = f'./data/external/in/lastfm-DELG.json'\n",
    "# fn_ref = f'data/json/lastfm_refined/Graph_8_2587-min.json'\n",
    "# fn_ext = f'./data/external/in/topics-DELG.json'\n",
    "# fn_ref = f'data/json/topics_faryad_8level_linear/Graph_5000-1615834916-min.json'\n",
    "# fn_ext = f'./data/external/in/tol-DELG.json'\n",
    "# fn_ref = f'data/json/tol_graphs_linear/Graph_4-1615872482-min.json'\n",
    "\n",
    "# fn_out = fn_ext.replace('/in/', '/').replace('.json', '-min.json')\n",
    "# fn_out_nodes = fn_ext.replace('/in/', '/').replace('.json', '-nodes-0.json')\n",
    "\n",
    "# fn_ext = f'./data/external/input/lastfm/bt_cg.json'\n",
    "# fn_out = fn_ext.replace('/in/', '/').replace('.json', '-min.json')\n"
   ]
  },
  {
   "cell_type": "code",
   "execution_count": 10,
   "metadata": {
    "scrolled": true
   },
   "outputs": [
    {
     "ename": "NameError",
     "evalue": "name 'read_external' is not defined",
     "output_type": "error",
     "traceback": [
      "\u001b[0;31m---------------------------------------------------------------------------\u001b[0m",
      "\u001b[0;31mNameError\u001b[0m                                 Traceback (most recent call last)",
      "\u001b[0;32m/tmp/ipykernel_28284/3926669344.py\u001b[0m in \u001b[0;36m<module>\u001b[0;34m\u001b[0m\n\u001b[0;32m----> 1\u001b[0;31m \u001b[0mdata_ext\u001b[0m \u001b[0;34m=\u001b[0m \u001b[0mread_external\u001b[0m\u001b[0;34m(\u001b[0m\u001b[0mfn_ext\u001b[0m\u001b[0;34m)\u001b[0m\u001b[0;34m\u001b[0m\u001b[0;34m\u001b[0m\u001b[0m\n\u001b[0m\u001b[1;32m      2\u001b[0m \u001b[0;34m\u001b[0m\u001b[0m\n\u001b[1;32m      3\u001b[0m \u001b[0;32mwith\u001b[0m \u001b[0mopen\u001b[0m\u001b[0;34m(\u001b[0m\u001b[0mfn_out\u001b[0m\u001b[0;34m,\u001b[0m \u001b[0;34m'w'\u001b[0m\u001b[0;34m)\u001b[0m \u001b[0;32mas\u001b[0m \u001b[0mf\u001b[0m\u001b[0;34m:\u001b[0m\u001b[0;34m\u001b[0m\u001b[0;34m\u001b[0m\u001b[0m\n\u001b[1;32m      4\u001b[0m     \u001b[0mjson\u001b[0m\u001b[0;34m.\u001b[0m\u001b[0mdump\u001b[0m\u001b[0;34m(\u001b[0m\u001b[0mdata\u001b[0m\u001b[0;34m,\u001b[0m \u001b[0mf\u001b[0m\u001b[0;34m,\u001b[0m \u001b[0mindent\u001b[0m\u001b[0;34m=\u001b[0m\u001b[0;36m2\u001b[0m\u001b[0;34m)\u001b[0m\u001b[0;34m\u001b[0m\u001b[0;34m\u001b[0m\u001b[0m\n\u001b[1;32m      5\u001b[0m \u001b[0;31m# with open(fn_out_nodes, 'w') as f:\u001b[0m\u001b[0;34m\u001b[0m\u001b[0;34m\u001b[0m\u001b[0;34m\u001b[0m\u001b[0m\n",
      "\u001b[0;31mNameError\u001b[0m: name 'read_external' is not defined"
     ]
    }
   ],
   "source": [
    "data_ext = read_external(fn_ext)\n",
    "\n",
    "with open(fn_out, 'w') as f:\n",
    "    json.dump(data, f, indent=2)\n",
    "# with open(fn_out_nodes, 'w') as f:\n",
    "#     json.dump(nodes, f, indent=2) "
   ]
  },
  {
   "cell_type": "code",
   "execution_count": null,
   "metadata": {},
   "outputs": [],
   "source": [
    "xxxx"
   ]
  },
  {
   "cell_type": "markdown",
   "metadata": {},
   "source": [
    "---"
   ]
  },
  {
   "cell_type": "code",
   "execution_count": null,
   "metadata": {},
   "outputs": [],
   "source": [
    "def read_khaled(fn_labels, fn_coords, fn_edges):\n",
    "    xs = []\n",
    "    ys = []\n",
    "    labels = []\n",
    "    with open(fn_labels) as f_labels, open(fn_coords) as f_coord:\n",
    "        for xy, label in zip(f_coord, f_labels):\n",
    "            xy = xy.split()[:2]\n",
    "            x,y = float(xy[0]), float(xy[1])\n",
    "            label = label.strip()\n",
    "            xs.append(x)\n",
    "            ys.append(y)\n",
    "            labels.append(label)\n",
    "    return xs,ys,labels\n",
    "\n",
    "\n",
    "def align2(data_khaled, data_ref):\n",
    "    ## khaled todo\n",
    "    xs, ys, labels = data_khaled\n",
    "    label_to_x = {l:x for x,l in zip(xs, labels)}\n",
    "    label_to_y = {l:y for y,l in zip(ys, labels)}\n",
    "    ## ref\n",
    "    index_to_label = {i:l.replace('\"', '') for i,l in enumerate(data_ref['node_label'])}\n",
    "\n",
    "    ## match\n",
    "    node_x = [label_to_x[index_to_label[i]] for i in range(len(index_to_label))]\n",
    "    node_y = [label_to_y[index_to_label[i]] for i in range(len(index_to_label))]\n",
    "    \n",
    "    res_ref = data_ref.copy()\n",
    "    res_ref['node_x'] = node_x\n",
    "    res_ref['node_y'] = node_y\n",
    "    \n",
    "    return res_ref, objectify(res_ref)"
   ]
  },
  {
   "cell_type": "code",
   "execution_count": null,
   "metadata": {},
   "outputs": [],
   "source": [
    "# fn_ref = f'data/json/lastfm_refined/Graph_8_2587-min.json'\n",
    "# fn_labels = './data/large/lastfm/Graph_8.txt.full.labels'\n",
    "# fn_coords = './data/large/lastfm/Graph_8.txt.weighted.mtxBatchTree128PARAOUT0.txt'\n",
    "# fn_edges = './data/large/lastfm/Graph_8.txt.weighted.mtx'\n",
    "\n",
    "# fn_ref = f'data/json/topics_faryad_8level_linear/Graph_5000-1615834916-min.json'\n",
    "# fn_labels = './data/large/topics/Graph_5000.txt.full.labels'\n",
    "# fn_coords = './data/large/topics/Graph_5000.txt.weighted.mtxBatchTree128PARAOUT0.txt'\n",
    "# fn_edges = './data/large/topics/Graph_5000.txt.weighted.mtx'\n",
    "\n",
    "fn_ref = f'data/json/tol_graphs_linear/Graph_4-1615175837-min.json'\n",
    "fn_labels = './data/large/tol/Graph_4.txt.full.labels'\n",
    "fn_coords = './data/large/tol/Graph_4.txt.weighted.mtxBatchTree128PARAOUT0.txt'\n",
    "fn_edges = './data/large/tol/Graph_4.txt.weighted.mtx'\n",
    "\n",
    "data_ref = read_ref(fn_ref)\n",
    "data_khaled = read_khaled(fn_labels, fn_coords, fn_edges)\n",
    "\n",
    "data, nodes = align2(data_khaled, data_ref)\n",
    "\n",
    "dir_out = '/'.join(fn_labels.split('/')[:-1])\n",
    "fn_out = dir_out + '/'+ fn_labels.split('/')[-1].split('.')[0] + '-min.json'\n",
    "fn_out_nodes = dir_out + '/' + fn_labels.split('/')[-1].split('.')[0] + '-nodes-0.json'\n",
    "\n",
    "fn_out, fn_out_nodes"
   ]
  },
  {
   "cell_type": "code",
   "execution_count": null,
   "metadata": {},
   "outputs": [],
   "source": [
    "with open(fn_out, 'w') as f:\n",
    "    json.dump(data, f, indent=2)\n",
    "with open(fn_out_nodes, 'w') as f:\n",
    "    json.dump(nodes, f, indent=2) "
   ]
  },
  {
   "cell_type": "code",
   "execution_count": null,
   "metadata": {},
   "outputs": [],
   "source": [
    "# # expected output format\n",
    "# with open('data/json/lastfm_refined/Graph_8_2587-nodes-0.json') as f:\n",
    "#     out_nodes = json.load(f)\n",
    "# print(out_nodes[0].keys())"
   ]
  },
  {
   "cell_type": "code",
   "execution_count": null,
   "metadata": {},
   "outputs": [],
   "source": []
  }
 ],
 "metadata": {
  "kernelspec": {
   "display_name": "Python 3 (ipykernel)",
   "language": "python",
   "name": "python3"
  },
  "language_info": {
   "codemirror_mode": {
    "name": "ipython",
    "version": 3
   },
   "file_extension": ".py",
   "mimetype": "text/x-python",
   "name": "python",
   "nbconvert_exporter": "python",
   "pygments_lexer": "ipython3",
   "version": "3.7.15"
  }
 },
 "nbformat": 4,
 "nbformat_minor": 4
}
